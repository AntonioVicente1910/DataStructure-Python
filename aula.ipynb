{
 "cells": [
  {
   "cell_type": "code",
   "execution_count": 3,
   "metadata": {},
   "outputs": [
    {
     "name": "stdout",
     "output_type": "stream",
     "text": [
      "O valor final da compra é de R$120.00\n"
     ]
    }
   ],
   "source": [
    "preco = 12\n",
    "compra = int(input(\"Quantos foram comprados?:\\n\"))\n",
    "print(f'O valor final da compra é de R${preco * compra:.2f}')"
   ]
  },
  {
   "cell_type": "code",
   "execution_count": 13,
   "metadata": {},
   "outputs": [
    {
     "name": "stdout",
     "output_type": "stream",
     "text": [
      "Você é Camboriuense\n"
     ]
    }
   ],
   "source": [
    "\n",
    "from unidecode import unidecode\n",
    "def disascentuados(texto):\n",
    "    texto = unidecode(texto)\n",
    "cidade = input('Qual cidade você nasceu? \\n')\n",
    "cidade = cidade.casefold()\n",
    "disascentuados(cidade)\n",
    "if (cidade == 'camboriu'):\n",
    "    print('Você é Camboriuense')\n",
    "elif (cidade == 'balneario camboriu'):\n",
    "    print('Você é Balneário Camboriuense')\n",
    "elif (cidade == 'itajai'):\n",
    "    print('Você é itajaiense')\n",
    "else:\n",
    "    print('Você não nasceu no vale do Itajaí')"
   ]
  }
 ],
 "metadata": {
  "kernelspec": {
   "display_name": "Python 3",
   "language": "python",
   "name": "python3"
  },
  "language_info": {
   "codemirror_mode": {
    "name": "ipython",
    "version": 3
   },
   "file_extension": ".py",
   "mimetype": "text/x-python",
   "name": "python",
   "nbconvert_exporter": "python",
   "pygments_lexer": "ipython3",
   "version": "3.12.6"
  }
 },
 "nbformat": 4,
 "nbformat_minor": 2
}
